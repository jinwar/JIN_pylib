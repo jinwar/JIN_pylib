{
 "cells": [
  {
   "cell_type": "markdown",
   "metadata": {},
   "source": [
    "# Create Spool"
   ]
  },
  {
   "cell_type": "code",
   "execution_count": null,
   "metadata": {},
   "outputs": [],
   "source": [
    "from JIN_pylib.readers import ONYX_DAS_Reader\n",
    "\n",
    "sp = ONYX_DAS_Reader.create_spool(datapath)\n",
    "sp.save_pickle('windows_disk1_2.5khz.pkl')"
   ]
  },
  {
   "cell_type": "markdown",
   "metadata": {},
   "source": [
    "# Standard Deviation Processing"
   ]
  },
  {
   "cell_type": "code",
   "execution_count": null,
   "metadata": {},
   "outputs": [],
   "source": [
    "def std(DASdata, down_size=60):\n",
    "    output_data = DASdata.copy()\n",
    "    data = []\n",
    "    N = len(DASdata.taxis)//down_size\n",
    "    for i in range(down_size):\n",
    "        data.append(np.std(DASdata.data[:,i*N:(i+1)*N], axis=1))\n",
    "    output_data.data = np.array(data).T\n",
    "    output_data.taxis = np.array([DASdata.taxis[i*N+N//2] for i in range(down_size)])\n",
    "    return output_data\n",
    "\n",
    "def pre_process(DASdata):\n",
    "    output_data = DASdata.copy()\n",
    "    output_data.take_gradient()\n",
    "    return output_data\n",
    "\n",
    "from JIN_pylib import Spool\n",
    "\n",
    "sp = Spool.spool()\n",
    "sp.load_pickle('./windows_disk2_2.5khz.pkl')\n",
    "\n",
    "Spool.sp_process(sp, './std_test/', std,pre_process=pre_process, patch_size=60, overwrite=False)"
   ]
  },
  {
   "cell_type": "markdown",
   "metadata": {},
   "source": [
    "# Low frequency downsampling"
   ]
  },
  {
   "cell_type": "code",
   "execution_count": null,
   "metadata": {},
   "outputs": [],
   "source": [
    "# testing edge effect for low-pass filters\n",
    "from JIN_pylib import gjsignal\n",
    "\n",
    "threshold = 1e-6\n",
    "dt = np.median(np.diff(DASdata.taxis))\n",
    "new_rate = 1\n",
    "down_sample_ratio = int(np.ceil(1/dt/new_rate))\n",
    "corf = 1/new_rate*0.4\n",
    "\n",
    "edge_size = gjsignal.find_lpf_edge_effect(corf,dt,threshold)\n",
    "over_lap = np.ceil(edge_size*1.5*2)\n",
    "\n",
    "\n",
    "print(edge_size, over_lap)\n",
    "print(down_sample_ratio)"
   ]
  },
  {
   "cell_type": "code",
   "execution_count": null,
   "metadata": {},
   "outputs": [],
   "source": [
    "over_lap = 10  # better to be even number\n",
    "\n",
    "def down_sample(DASdata, down_size=2500):\n",
    "    output_data = DASdata.copy()\n",
    "    output_data.select_depth(600,1100)\n",
    "    output_data.down_sample(down_size)\n",
    "    return output_data\n",
    "\n",
    "def pre_process(DASdata):\n",
    "    output_data = DASdata.copy()\n",
    "    output_data.take_gradient()\n",
    "    return output_data\n",
    "\n",
    "def post_process(DASdata):\n",
    "    output_data = DASdata.copy()\n",
    "    taxis = output_data.taxis\n",
    "    output_data.select_time(taxis[0]+over_lap/2, taxis[-1]-over_lap/2)\n",
    "    return output_data\n",
    "\n",
    "Spool.sp_process(sp, './LFDAS/', down_sample\n",
    "                 ,pre_process=pre_process, post_process=post_process\n",
    "                 ,patch_size=60, overlap=over_lap\n",
    "                 ,overwrite=False)"
   ]
  },
  {
   "cell_type": "markdown",
   "metadata": {},
   "source": [
    "# STALTA processing"
   ]
  },
  {
   "cell_type": "code",
   "execution_count": null,
   "metadata": {},
   "outputs": [],
   "source": [
    "from JIN_pylib import Data2D_XT\n",
    "\n",
    "sta = 0.1; lta = 1\n",
    "\n",
    "def pre_process(data):\n",
    "    data.select_depth(950,1030)\n",
    "    data.take_gradient()\n",
    "    data.bp_filter(10, 500)\n",
    "    return data\n",
    "\n",
    "def stalta(data):\n",
    "    t, snr = data.get_stalta(sta, lta)\n",
    "    out = Data2D_XT.Data2D()\n",
    "    out.data = snr.reshape((1, -1))\n",
    "    out.set_time_from_datetime(t)\n",
    "    out.daxis = np.array([1000])\n",
    "    out.select_time(lta+sta/2, out.taxis[-1]-sta/2)\n",
    "    return out\n",
    "\n",
    "Spool.sp_process(sp, './STALTA/', stalta\n",
    "                 ,pre_process=pre_process\n",
    "                 ,patch_size=60, overlap=sta+lta\n",
    "                 ,overwrite=False)"
   ]
  }
 ],
 "metadata": {
  "kernelspec": {
   "display_name": "base",
   "language": "python",
   "name": "python3"
  },
  "language_info": {
   "codemirror_mode": {
    "name": "ipython",
    "version": 3
   },
   "file_extension": ".py",
   "mimetype": "text/x-python",
   "name": "python",
   "nbconvert_exporter": "python",
   "pygments_lexer": "ipython3",
   "version": "3.8.8"
  }
 },
 "nbformat": 4,
 "nbformat_minor": 2
}
