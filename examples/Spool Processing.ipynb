{
 "cells": [
  {
   "cell_type": "code",
   "execution_count": null,
   "metadata": {},
   "outputs": [],
   "source": []
  },
  {
   "cell_type": "markdown",
   "metadata": {},
   "source": [
    "# Standard Deviation Processing"
   ]
  },
  {
   "cell_type": "code",
   "execution_count": null,
   "metadata": {},
   "outputs": [],
   "source": [
    "def std(DASdata, down_size=60):\n",
    "    output_data = DASdata.copy()\n",
    "    data = []\n",
    "    N = len(DASdata.taxis)//down_size\n",
    "    for i in range(down_size):\n",
    "        data.append(np.std(DASdata.data[:,i*N:(i+1)*N], axis=1))\n",
    "    output_data.data = np.array(data).T\n",
    "    output_data.taxis = np.array([DASdata.taxis[i*N+N//2] for i in range(down_size)])\n",
    "    return output_data\n",
    "\n",
    "def pre_process(DASdata):\n",
    "    output_data = DASdata.copy()\n",
    "    output_data.take_gradient()\n",
    "    return output_data\n",
    "\n",
    "from JIN_pylib import Spool\n",
    "\n",
    "sp = Spool.spool()\n",
    "sp.load_pickle('./windows_disk2_2.5khz.pkl')\n",
    "\n",
    "Spool.sp_process(sp, './std_test/', std,pre_process=pre_process, patch_size=60, overwrite=False)"
   ]
  }
 ],
 "metadata": {
  "kernelspec": {
   "display_name": "base",
   "language": "python",
   "name": "python3"
  },
  "language_info": {
   "codemirror_mode": {
    "name": "ipython",
    "version": 3
   },
   "file_extension": ".py",
   "mimetype": "text/x-python",
   "name": "python",
   "nbconvert_exporter": "python",
   "pygments_lexer": "ipython3",
   "version": "3.8.8"
  }
 },
 "nbformat": 4,
 "nbformat_minor": 2
}
